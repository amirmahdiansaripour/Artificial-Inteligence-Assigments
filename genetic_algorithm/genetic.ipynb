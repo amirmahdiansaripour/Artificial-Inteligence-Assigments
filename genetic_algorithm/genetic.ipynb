{
 "cells": [
  {
   "cell_type": "markdown",
   "id": "db570e63",
   "metadata": {},
   "source": [
    "# Project #2 Artificial intelligance(Genetics)\n",
    "# (spring 2022)\n",
    "\n",
    "    Amirmahdi Ansaripour\n",
    "\n",
    "    Student ID: 810198358\n",
    "\n",
    "### Approach\n",
    "\n",
    "Implementing an encryption method using genetic algorithm\n",
    "\n",
    "### Description\n",
    "\n",
    "An encoded file is given to us and we're to decode it using an 14-length key and a table.\n",
    "The table is simply a 26 * 26 matrix, which the first row is [A,B,....,Z] and next rows are left-shifted of their previous row.(for example, second row is [B,C,...,Z,A])\n",
    "\n",
    "If we can find the key, decoding won't be difficult anymore. Since we don't have any information about the key and should begin completely random, GA algorithm seems to be useful. "
   ]
  },
  {
   "cell_type": "markdown",
   "id": "cd002bf7",
   "metadata": {},
   "source": [
    "### Defining parameters\n",
    "\n",
    "Firstly, we define some variables which aren't obtained during execution and should be initialized manully by user.\n",
    "\n",
    "Besides, some helpful packages and libraries are imported.\n"
   ]
  },
  {
   "cell_type": "code",
   "execution_count": 17,
   "id": "e2ba9cb3",
   "metadata": {},
   "outputs": [],
   "source": [
    "import numpy as np\n",
    "import string\n",
    "import random\n",
    "from random import choice\n",
    "import math\n",
    "ALPHABET_SIZE = 26\n",
    "POP_SIZE = 100\n",
    "ALPHABETS = list(string.ascii_uppercase)\n",
    "CROSS_OVER_PROB = 0.7\n",
    "MUTATION_PROB = 0.05\n",
    "CARRIED_ON_PARENTS = math.floor(0.48 * POP_SIZE)\n",
    "KEY_LENGTH = 14\n",
    "INPUT2 = \"encoded_text.txt\"\n",
    "INPUT1 = \"global_text.txt\"\n",
    "ZERO = 0"
   ]
  },
  {
   "cell_type": "markdown",
   "id": "4a94ff7d",
   "metadata": {},
   "source": [
    "### Making encryption table\n",
    "As mentioned, a table is needed to decode the text which is simply implemented by shiftinig each row to left and place it in the next row\n",
    "\n"
   ]
  },
  {
   "cell_type": "code",
   "execution_count": 18,
   "id": "e0668082",
   "metadata": {},
   "outputs": [],
   "source": [
    " def makeEncryptionTable(self):\n",
    "    self.table = np.array([ALPHABETS] * ALPHABET_SIZE)\n",
    "    shift = -1\n",
    "    for i in range(1, ALPHABET_SIZE):\n",
    "        self.table[i] = np.roll(self.table[i], shift)\n",
    "        shift = shift - 1"
   ]
  },
  {
   "cell_type": "markdown",
   "id": "d250a880",
   "metadata": {},
   "source": [
    "### Cleaning data and making dictionary\n",
    "The first step is to clean the global text given to the decoder and making a dictionary of valid words. This dictionary is useful when tokenizing the encoded text.\n",
    "\n",
    "The way I used to tokenize the global text:\n",
    "\n",
    "Each non-alphabet letter (such as numbers, dots, commas, ...) is a delimeter that seperates two valid words. The words are added to the dictionary."
   ]
  },
  {
   "cell_type": "code",
   "execution_count": 19,
   "id": "c6645df3",
   "metadata": {},
   "outputs": [],
   "source": [
    "def makeDictionary(self, globalTxt):\n",
    "    meanings = set()\n",
    "    token = \"\"\n",
    "    for i in range(len(globalTxt)):\n",
    "        if(globalTxt[i].isalpha()):\n",
    "            if(globalTxt[i] != \"\"):\n",
    "                token += globalTxt[i].lower()\n",
    "                if(i == len(globalTxt) - 1):\n",
    "                    meanings.add(token)\n",
    "        else:\n",
    "            if(token != \"\"):\n",
    "                meanings.add(token)\n",
    "                token = \"\"\n",
    "    return list(sorted(meanings))"
   ]
  },
  {
   "cell_type": "markdown",
   "id": "8ce970d2",
   "metadata": {},
   "source": [
    "### Defining initial concepts\n",
    "Each chromosome is a string of length 14 (mentioned in assignment). Hence, each gene is a letter of that string. The definition is flexible enough that accepts different randomizing functions such as mutation, crossover, etc.\n",
    "\n",
    "The desired solution is a chromosome which decodes the encrypted text to a meaningful one (using the dictionary and the table)."
   ]
  },
  {
   "cell_type": "markdown",
   "id": "87307cc7",
   "metadata": {},
   "source": [
    "### Generating initial population\n",
    "To start the algorithm, we need an absolute-random population. Population size is a parameter that is assigned by the user (and has a very significant impact on the algorithm). "
   ]
  },
  {
   "cell_type": "code",
   "execution_count": 20,
   "id": "13bd4713",
   "metadata": {},
   "outputs": [],
   "source": [
    "def initPopulation(self, Popsize):\n",
    "    lst = []\n",
    "    for i in range(Popsize):\n",
    "        newChrome = []\n",
    "        for j in range(self.keyLength):\n",
    "            newChrome.append(choice(ALPHABETS))\n",
    "        lst.append(newChrome)\n",
    "    return lst"
   ]
  },
  {
   "cell_type": "markdown",
   "id": "3f1e12ba",
   "metadata": {},
   "source": [
    "### Implementing crossover and mutation\n",
    "The main reason of using a GA is the two functions implemented below. They're used for converging the population to a specific area or diverging if needed.\n",
    "Each function has a probability for its own. It's used to determine wheter the function should be run or not."
   ]
  },
  {
   "cell_type": "code",
   "execution_count": 21,
   "id": "643c7091",
   "metadata": {},
   "outputs": [],
   "source": [
    "def crossOver(self, chrom1, chrom2, prob):\n",
    "    child = []\n",
    "    for i in range(self.keyLength):\n",
    "        probable = random.random()\n",
    "        if(probable < prob):\n",
    "            child.append(chrom1[i])\n",
    "        else:\n",
    "            child.append(chrom2[i])\n",
    "    return child"
   ]
  },
  {
   "cell_type": "code",
   "execution_count": 22,
   "id": "29d96b48",
   "metadata": {},
   "outputs": [],
   "source": [
    "def mutation(self, chrom, prob):\n",
    "    for i in range(len(chrom)):\n",
    "        probable = random.random()\n",
    "        if(probable < prob):\n",
    "            chrom[i] = choice(ALPHABETS)\n",
    "    return chrom\n"
   ]
  },
  {
   "cell_type": "markdown",
   "id": "557ab7d5",
   "metadata": {},
   "source": [
    "### Designating fitness function\n",
    "Accorging to the definition of chromosome and gene, fitness function won't be difficult any more. Encrypted text will be decoded using the code and number of valid words is the fitness value. Here comes the dictionary that we've defined it recently. "
   ]
  },
  {
   "cell_type": "code",
   "execution_count": 23,
   "id": "440ee59b",
   "metadata": {},
   "outputs": [],
   "source": [
    "def matchWithTable(self, chrom):\n",
    "    ## Consider two issues : lower/upper case + ascii equvalent of chars\n",
    "    chromCounter = 0\n",
    "    token = \"\"\n",
    "    toBeMeant = []\n",
    "    \n",
    "    self.oneToOne.clear()\n",
    "    enc = \"\"\n",
    "    \n",
    "    translated = \"\"\n",
    "    for i in range(len(self.encoded)):\n",
    "        if(self.encoded[i].isalpha()):\n",
    "            enc += self.encoded[i]\n",
    "            isLow = self.encoded[i].islower()\n",
    "            upper = self.encoded[i].upper()\n",
    "            ascii_chrom = ord(chrom[chromCounter]) - 65\n",
    "            ascii_upper = ord(upper) - 65\n",
    "            chromCounter += 1\n",
    "            intersect = self.table[ascii_chrom][ascii_upper]    \n",
    "            if(isLow):\n",
    "                intersect = intersect.lower()\n",
    "            token += intersect.lower()\n",
    "            translated += intersect\n",
    "            if(i == len(self.encoded) - 1):\n",
    "                toBeMeant.append(token)\n",
    "                self.oneToOne[token] = enc\n",
    "            if(chromCounter == KEY_LENGTH):\n",
    "                chromCounter = 0\n",
    "        else:\n",
    "            if(token != \"\"):      ## like ; , . ()\n",
    "                toBeMeant.append(token)\n",
    "            self.oneToOne[token] = enc\n",
    "            token = \"\"\n",
    "            enc = \"\"\n",
    "            translated += self.encoded[i]   ## add non-alphas exactly to last string\n",
    "            \n",
    "    return [toBeMeant, translated]"
   ]
  },
  {
   "cell_type": "code",
   "execution_count": 24,
   "id": "2679c6ef",
   "metadata": {},
   "outputs": [],
   "source": [
    "def search(self,x):\n",
    "    if x in self.dictionary:\n",
    "        return True\n",
    "    else:\n",
    "        return False\n",
    "\n",
    "def fitness(self, chrom):\n",
    "    matched = self.matchWithTable(chrom)\n",
    "    cost = 0\n",
    "    unmatched = []\n",
    "    for i in range(len(matched[0])):\n",
    "        if(self.search(matched[0][i])):\n",
    "            continue\n",
    "        else:\n",
    "            unmatched.append(matched[0][i])\n",
    "            cost += 1    \n",
    "    if (cost == 0):\n",
    "        self.finalTxt = matched[1]\n",
    "    return cost\n"
   ]
  },
  {
   "cell_type": "code",
   "execution_count": 25,
   "id": "0577369e",
   "metadata": {},
   "outputs": [],
   "source": [
    "def calcCromsandCost(self):\n",
    "    chromsWithCosts = []\n",
    "    for i in range(len(self.chroms)):\n",
    "        cost = self.fitness(self.chroms[i])\n",
    "        chromsWithCosts.append((cost, self.chroms[i]))\n",
    "    chromsWithCosts.sort()\n",
    "    return chromsWithCosts"
   ]
  },
  {
   "cell_type": "code",
   "execution_count": 26,
   "id": "635dc7c8",
   "metadata": {},
   "outputs": [],
   "source": [
    "def finalize(self, chrom):\n",
    "    if(chrom[0] == 0):\n",
    "        self.foundSolution = True\n",
    "        self.solution = chrom[1]\n",
    "    "
   ]
  },
  {
   "cell_type": "code",
   "execution_count": 27,
   "id": "b8874142",
   "metadata": {},
   "outputs": [],
   "source": [
    "# def generateParanormally(self, cost):\n",
    "#     newCost = cost\n",
    "#     print(\"Paranormally\")\n",
    "#     for i in range(len(self.chroms)):\n",
    "#         for j in range(i + 1, len(self.chroms)):\n",
    "#             chrom1 = self.chroms[i]\n",
    "#             chrom2 = self.chroms[j]\n",
    "#             child1 = self.crossOver(chrom1, chrom2, self.crossOverProb)\n",
    "#             m = self.calcCost(child1)\n",
    "#             newCost1 = m[0]\n",
    "#             child2 = self.mutation(self.chroms[i], 1)\n",
    "#             child3 = self.mutation(self.chroms[j], 1)\n",
    "#             newCost2 = self.calcCost(child2)[0]\n",
    "#             newCost3 = self.calcCost(child3)[0]\n",
    "#             newCost = min(newCost1, newCost2, newCost3)\n",
    "#             if(newCost < cost):\n",
    "#                 print(\"Finally:\", newCost)\n",
    "                \n",
    "    \n",
    "#     print(\"Failure:\", newCost)\n"
   ]
  },
  {
   "cell_type": "code",
   "execution_count": 28,
   "id": "1a51cce4",
   "metadata": {},
   "outputs": [],
   "source": [
    "def crossandMutation(self, nextGeneration, carriedOnChroms):\n",
    "    while(len(nextGeneration) < self.popSize):\n",
    "        chrom1 = []\n",
    "        chrom2 = []\n",
    "        chrom1,chrom2 = random.sample(carriedOnChroms, 2)\n",
    "        \n",
    "        child = self.crossOver(chrom1, chrom2, self.crossOverProb)\n",
    "        nextGeneration.append(child)\n",
    "        child2 = child\n",
    "        child2 = self.mutation(child2, self.mutateProb)\n",
    "        if(len(nextGeneration) < self.popSize):\n",
    "            nextGeneration.append(child2)\n",
    "    return nextGeneration"
   ]
  },
  {
   "cell_type": "markdown",
   "id": "8af33d9d",
   "metadata": {},
   "source": [
    "### Generating next population\n",
    "After processing all the elements in current population, and not finding the solution between them, it's time to generate the next population. Used methods are crossover, mutation, and carrying some well-fitted chromosomes directly to next stage."
   ]
  },
  {
   "cell_type": "code",
   "execution_count": 29,
   "id": "f76f3d4e",
   "metadata": {},
   "outputs": [],
   "source": [
    "def generate(self, chromsWithCosts):\n",
    "    carriedOnChroms = []\n",
    "    nextGeneration = []\n",
    "    for i in range(self.holdChroms):\n",
    "        nextGeneration.append(chromsWithCosts[i][1])\n",
    "        carriedOnChroms.append(chromsWithCosts[i][1])\n",
    "    nextGeneration = self.crossandMutation(nextGeneration, carriedOnChroms)\n",
    "    return nextGeneration"
   ]
  },
  {
   "cell_type": "code",
   "execution_count": 30,
   "id": "38439650",
   "metadata": {},
   "outputs": [],
   "source": [
    "def newPopulation(self):\n",
    "    chromsWithCosts = self.calcCromsandCost()\n",
    "            \n",
    "#     print(\"Fitness : \", chromsWithCosts[0][0])\n",
    "    \n",
    "    self.finalize(chromsWithCosts[0])    \n",
    "    \n",
    "    nextGeneration = self.generate(chromsWithCosts)\n",
    "\n",
    "    return nextGeneration"
   ]
  },
  {
   "cell_type": "markdown",
   "id": "9e3252c1",
   "metadata": {},
   "source": [
    "### Final algorithm\n",
    "After explaining all details, the algorithm is made by putting them together. It ends when the solution is found and the final encoded text is returned.\n",
    "\n",
    "In each iteration, a new population is generated and processed."
   ]
  },
  {
   "cell_type": "code",
   "execution_count": 31,
   "id": "6abd5a55",
   "metadata": {},
   "outputs": [],
   "source": [
    "def decode(self):\n",
    "    self.makeEncryptionTable()\n",
    "    self.chroms = self.initPopulation(self.popSize)\n",
    "    while(not(self.foundSolution)):\n",
    "        res = self.newPopulation()\n",
    "        self.chroms = res\n",
    "#         print(\"Best current chromosome : \", self.chroms[0])\n",
    "    return self.finalTxt"
   ]
  },
  {
   "cell_type": "code",
   "execution_count": null,
   "id": "25c27f72",
   "metadata": {},
   "outputs": [],
   "source": []
  },
  {
   "cell_type": "code",
   "execution_count": 32,
   "id": "f15d1b58",
   "metadata": {
    "scrolled": true
   },
   "outputs": [
    {
     "name": "stdout",
     "output_type": "stream",
     "text": [
      "Albert Einstein\n",
      "Old Grove Rd.\n",
      "Nassau Point\n",
      "Peconic, Long Island\n",
      "\n",
      "August 2nd, 1939\n",
      "\n",
      "F.D. Roosevelt,\n",
      "President of the United States,\n",
      "White House\n",
      "Washington, D.C.\n",
      "\n",
      "Sir:\n",
      "\n",
      "Some recent work by E. Fermi and L. Szilard, which has been communicated to me in manuscript, leads me to expect that the element uranium may be turned into a new and important source of energy in the immediate future. Certain aspects of the situation which has arisen seem to call for watchfulness and, if necessary, quick action on the part of the Administration. I believe therefore that it is my duty to bring to your attention the following facts and recommendations:\n",
      "\n",
      "In the course of the last four months it has been made probable—through the work of Joliot in France as well as Fermi and Szilard in America—that it may become possible to set up a nuclear chain reaction in a large mass of uranium by which vast amounts of power and large quantities of new radium-like elements would be generated. Now it appears almost certain that this could be achieved in the immediate future.\n",
      "\n",
      "This phenomenon would also lead to the construction of bombs, and it is conceivable—though much less certain—that extremely powerful bombs of a new type may thus be constructed. A single bomb of this type, carried by boat and exploded in a port, might very well destroy the whole port together with some of the surrounding territory. However, such bombs might very well prove to be too heavy for transportation by air.\n",
      "\n",
      "The United States has only very poor ores of uranium in moderate quantities. There is some good ore in Canada and the former Czechoslovakia, while the most important source of uranium is Belgian Congo.\n",
      "\n",
      "In view of this situation you may think it desirable to have some permanent contact maintained between the Administration and the group of physicists working on chain reactions in America. One possible way of achieving this might be for you to entrust with this task a person who has your confidence and who could perhaps serve in an inofficial capacity. His task might comprise the following:\n",
      "\n",
      "a)  to approach Government Departments, keep them informed of the further development, and put forward recommendations for Government action, giving particular attention to the problem of securing a supply of uranium ore for the United States.\n",
      "\n",
      "b)  to speed up the experimental work, which is at present being carried on within the limits of the budgets of University laboratories, by providing funds, if such funds be required, through his contacts with private persons who are willing to make contributions for this cause, and perhaps also by obtaining the co-operation of industrial laboratories which have the necessary equipment.\n",
      "\n",
      "I understand that Germany has actually stopped the sale of uranium from the Czechoslovakian mines which she has taken over. That she should have taken such early action might perhaps be understood on the ground that the son of the German Under-Secretary of State, von Weizsacker, is attached to the Kaiser-Wilhelm-Institut in Berlin where some of the American work on uranium is now being repeated.\n",
      "\n",
      "Yours very truly,\n",
      "\n",
      "Albert Einstein\n",
      "\n"
     ]
    }
   ],
   "source": [
    "class Decoder:\n",
    "    def __init__(self, globalTxt, encodedTxt, keyLength_):\n",
    "        self.keyLength = keyLength_\n",
    "        self.popSize = POP_SIZE  #constant size of population\n",
    "        self.chroms = []\n",
    "        self.table = []\n",
    "        self.crossOverProb = CROSS_OVER_PROB\n",
    "        self.mutateProb = MUTATION_PROB\n",
    "        self.foundSolution = False\n",
    "        self.oneToOne = {}\n",
    "        self.solution = []\n",
    "        self.holdChroms = CARRIED_ON_PARENTS\n",
    "        self.encoded = encodedTxt\n",
    "        self.changePattern = False\n",
    "        self.dictionary = self.makeDictionary(globalTxt)\n",
    "        self.finalTxt = \"\"\n",
    "        \n",
    "    makeDictionary = makeDictionary\n",
    "    makeEncryptionTable = makeEncryptionTable\n",
    "    initPopulation = initPopulation\n",
    "    crossOver = crossOver\n",
    "    mutation = mutation\n",
    "    matchWithTable = matchWithTable\n",
    "    newPopulation = newPopulation    \n",
    "    decode = decode\n",
    "    fitness = fitness\n",
    "    search = search\n",
    "    calcCromsandCost = calcCromsandCost\n",
    "    finalize = finalize\n",
    "    generate = generate\n",
    "    crossandMutation = crossandMutation\n",
    "    \n",
    "globalText = open(INPUT1).read()   \n",
    "encodedText = open(INPUT2).read()\n",
    "D = Decoder(globalText, encodedText, KEY_LENGTH)\n",
    "decodedText = D.decode()\n",
    "print(decodedText)"
   ]
  },
  {
   "cell_type": "code",
   "execution_count": null,
   "id": "19768baf",
   "metadata": {},
   "outputs": [],
   "source": []
  },
  {
   "cell_type": "code",
   "execution_count": null,
   "id": "5fb0403e",
   "metadata": {},
   "outputs": [],
   "source": [
    "    "
   ]
  },
  {
   "cell_type": "markdown",
   "id": "24f6a954",
   "metadata": {},
   "source": [
    "## Questions\n",
    "\n",
    "\n",
    "##### Important points:\n",
    "1)Since most stages of algorithm are done completely random, these  answers are generally true and you may test a GA with a random population that doesn't accept the answers.\n",
    "\n",
    "2)In each step, next population is made up of a percentage of best-fitting chromosomes in addition to their random offsprings (mostly crossovered and some mutated). \n",
    "\n",
    "\n",
    "    1) Name some problems of starting a genetic algorithm with an under-crowded population, what about an over-crowded one?\n",
    "Over-Crowded: Although the chance of reaching the goal chromosome is higher in this case, but we should consider the time spent for calculating the fitness of all chromosomes and generating their offsprings when they are alot.\n",
    "Besides, when the number of chromosomes is extremely high, the algorithm may not converge early.\n",
    "\n",
    "Under-Crowded: When the first population size is extremely low, we should'nt expect that the final chromosome will appear in our population very soon, due to the limited states of \n",
    "combining the parents.\n",
    "\n",
    "In other words, the process of making a new generation may not take alot of time, but it should be repeated more frequently.\n",
    "\n",
    "What's more, when the size of a low-populated sample doesn't change during the algorithm, chance of getting stuck and staying in local optimas gets higher.\n",
    "\n",
    "\n",
    "    2) If the population size increases in each step, how does this increasing impact speed and accuracy of algorithm?\n",
    "\n",
    "If the size increases, it means that more best-fitting \n",
    "elements and their offsprings are produced and the probabilty that our desired answer is among them increases. In other words, number of iterations of making new population decreases but processing each population takes more time. So there isn't an exact yes/no answer for speed part and highly depends on the implementation.\n",
    "\n",
    "About the accuracy, it increases or remains unchanged. Because more offsprings of well-fitted parents (hopefully, with better fitness points) are added. But if we're stuck in a local optima, probably increasing population won't do anything useful.\n",
    "\n",
    "\n",
    "    3) Why does GA use both crossover and mutation methods? What will happen if we use only one of them?\n",
    "Crossover is for convergence and mutation is for divergence of the population. Both are essential based on the following reasons:\n",
    "\n",
    "a) If crossover is omitted, the population doesn't converge to a specific well-fitted chromosome and some fixed relatively good chromosomes will always appear in the sample and become useless.\n",
    "\n",
    "b) Mutation helps us to move to a different area of solutions if we're converged to and stuck in a local optima and there isn't hope to get better answers. In other words, it helps to diverge the population from it's current state. So if we put it aside, we will probably waste a lot of time in local optimas.\n",
    "\n",
    "    4) Which operation has a more positive influence on accuracy? Which one impacts faster?\n",
    "Both crossover and mutation are useful for getting more closed to the global optima in each stage. But as their definition suggests, convergence to an optima (local or global) is the result of crossover. So it seems to affect accuracy better and faster than mutation.\n",
    "\n",
    "    5) Using mutation and crossover, it's possible that after a few steps, the population is still unchanged. How this problem can be solved?\n",
    "\n",
    "Applying n-point crossover with a high n parameter, and increasing the mutation and crossover probabilities are helpful to change the chromosomes (Note that if mutation probability gets one, chromosomes and respectively the population will difinitely change)\n",
    "\n",
    "    6) If using only one of the methods was allowed, which one would be more helpful?\n",
    "\n",
    "Without crossover, the population doesn't converge to a soultion gradually and acts haphazardly. So that the algorithm converts into randomized local search. So it's more necessary than mutation. \n",
    "\n",
    "    7) What techniques can be used in this problem to reach the desired result faster?\n",
    "When calculating fitness, binary search can be used for finding the decoded tokens in the dictionary(sorting the dictionary is done as a preprocess before decoding)\n",
    "\n",
    "Some kinds of parallelism can also be used when tokenizing the dictionary or the encoded text or finding fitnesses\n"
   ]
  },
  {
   "cell_type": "markdown",
   "id": "9cbff061",
   "metadata": {},
   "source": [
    "### Conclusion\n",
    "So far, we've learnt the concept of genetic algorithms and when they are used and for which kind of problems. Besides, some techniques were mentioned to enhance the algorithm. Our learning passed throught the way of a decoding method. "
   ]
  },
  {
   "cell_type": "markdown",
   "id": "3ada0290",
   "metadata": {},
   "source": [
    "### Refrences\n",
    "\n",
    "1.https://www.researchgate.net/post/How_to_avoid_repetition_in_the_populations_of_the_Genetic_Algorithm\n",
    "\n",
    "2.https://www.geeksforgeeks.org/ml-convergence-of-genetic-algorithms/\n",
    "\n",
    "3.https://www.geeksforgeeks.org/genetic-algorithms/"
   ]
  }
 ],
 "metadata": {
  "kernelspec": {
   "display_name": "Python 3 (ipykernel)",
   "language": "python",
   "name": "python3"
  },
  "language_info": {
   "codemirror_mode": {
    "name": "ipython",
    "version": 3
   },
   "file_extension": ".py",
   "mimetype": "text/x-python",
   "name": "python",
   "nbconvert_exporter": "python",
   "pygments_lexer": "ipython3",
   "version": "3.8.10"
  }
 },
 "nbformat": 4,
 "nbformat_minor": 5
}
